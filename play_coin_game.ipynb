{
 "cells": [
  {
   "cell_type": "code",
   "execution_count": 1,
   "id": "abb94ce6",
   "metadata": {},
   "outputs": [],
   "source": [
    "# import libraries\n",
    "import numpy as np\n",
    "import random"
   ]
  },
  {
   "cell_type": "code",
   "execution_count": 2,
   "id": "359822db",
   "metadata": {},
   "outputs": [],
   "source": [
    "# generate function \n",
    "def play_coin_game(num_games):\n",
    "    # create an empty list as a place holder for the number of cycles in each game\n",
    "    cycle_counts = []\n",
    "    # loop through the number of simulations (games)\n",
    "    for i in range(num_games):\n",
    "        # initial state\n",
    "        aCoins = 4\n",
    "        bCoins = 4\n",
    "        potCoins = 2\n",
    "        # even if a player loses, that cycle is also counted as last cycle. \n",
    "        # For that reason, we start the cycles = 1\n",
    "        cycles = 1\n",
    "        \n",
    "        # transition state = condition for the game to continue, else = termination state\n",
    "        while True:\n",
    "            # player A\n",
    "            # generate random numbers from 1 to 6\n",
    "            aRoll = random.randint(1, 6)\n",
    "            # apply game rules\n",
    "            if aRoll == 1:\n",
    "                pass\n",
    "            elif aRoll == 2:\n",
    "                aCoins += potCoins\n",
    "                potCoins = 0\n",
    "            elif aRoll == 3:\n",
    "                aCoins += potCoins // 2\n",
    "                potCoins //= 2\n",
    "            elif aRoll > 3:\n",
    "                if aCoins <= 0:\n",
    "                    break\n",
    "                aCoins -= 1\n",
    "                potCoins += 1\n",
    "            \n",
    "\n",
    "            # player B\n",
    "            # generate random numbers from 1 to 6\n",
    "            bRoll = random.randint(1, 6)\n",
    "            # apply game rules\n",
    "            if bRoll == 1:\n",
    "                pass\n",
    "            elif bRoll == 2:\n",
    "                bCoins += potCoins\n",
    "                potCoins = 0\n",
    "            elif bRoll == 3:\n",
    "                bCoins += potCoins // 2\n",
    "                potCoins //= 2\n",
    "            elif bRoll > 3:\n",
    "                if bCoins <= 0:\n",
    "                    break\n",
    "                bCoins -= 1\n",
    "                potCoins += 1\n",
    "\n",
    "            cycles += 1\n",
    "\n",
    "        cycle_counts.append(cycles)\n",
    "\n",
    "    return cycle_counts"
   ]
  },
  {
   "cell_type": "code",
   "execution_count": 3,
   "id": "4a1e0208",
   "metadata": {},
   "outputs": [],
   "source": [
    "num_games = 1000000\n",
    "cycle_counts = play_coin_game(num_games)"
   ]
  },
  {
   "cell_type": "code",
   "execution_count": 4,
   "id": "a819ee65",
   "metadata": {},
   "outputs": [],
   "source": [
    "np.savetxt('cycle_counts.csv', cycle_counts, delimiter=',')"
   ]
  },
  {
   "cell_type": "code",
   "execution_count": null,
   "id": "ac2bd28f",
   "metadata": {},
   "outputs": [],
   "source": []
  }
 ],
 "metadata": {
  "kernelspec": {
   "display_name": "Python 3 (ipykernel)",
   "language": "python",
   "name": "python3"
  },
  "language_info": {
   "codemirror_mode": {
    "name": "ipython",
    "version": 3
   },
   "file_extension": ".py",
   "mimetype": "text/x-python",
   "name": "python",
   "nbconvert_exporter": "python",
   "pygments_lexer": "ipython3",
   "version": "3.10.13"
  }
 },
 "nbformat": 4,
 "nbformat_minor": 5
}
